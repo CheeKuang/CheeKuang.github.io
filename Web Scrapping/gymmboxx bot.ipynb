{
 "cells": [
  {
   "cell_type": "code",
   "execution_count": 1,
   "metadata": {},
   "outputs": [],
   "source": [
    "# import requests\n",
    "# from bs4 import BeautifulSoup\n",
    "# import pandas as pd\n",
    "# import re\n",
    "import schedule\n",
    "import time\n",
    "# import nltk\n",
    "from datetime import datetime as dt\n",
    "import datetime\n",
    "from playsound import playsound\n",
    "\n",
    "# from nltk.tokenize import word_tokenize\n",
    "from selenium import webdriver\n",
    "from selenium.webdriver.support.wait import WebDriverWait\n",
    "from selenium.webdriver.support import expected_conditions as EC\n",
    "from selenium.webdriver.common.by import By\n",
    "from selenium.webdriver.support.ui import Select"
   ]
  },
  {
   "cell_type": "code",
   "execution_count": 3,
   "metadata": {},
   "outputs": [],
   "source": [
    "url = \"https://smartentry.org/appt/book/gymmboxx\"\n",
    "mobile = \"\"\n",
    "gymmboxxid = \"\"\n",
    "booking_time = datetime.time(20)\n",
    "email = \"\"\n",
    "\n",
    "outlet = \"Bedok Point\"\n",
    "# outlet = \"Century Square\"\n",
    "\n",
    "# timeslot = \"4:30PM\"\n",
    "timeslot = \"8:00PM\"\n",
    "# timeslot = \"9:45PM\""
   ]
  },
  {
   "cell_type": "code",
   "execution_count": 4,
   "metadata": {},
   "outputs": [],
   "source": [
    "driver = webdriver.Chrome()\n",
    "driver.maximize_window()\n",
    "wait = WebDriverWait(driver, 15)"
   ]
  },
  {
   "cell_type": "code",
   "execution_count": 5,
   "metadata": {},
   "outputs": [],
   "source": [
    "# while True:\n",
    "    \n",
    "#     dtn = dt.now().time()\n",
    "#     if dtn >= booking_time:\n",
    "        \n",
    "# #         winsound.Beep(1000,1000)\n",
    "#         #playsound('hollow-582.mp3')\n",
    "#         driver.get(url)\n",
    "        \n",
    "#         ## In case page haven't load finish\n",
    "#         wait.until(EC.presence_of_element_located((By.CSS_SELECTOR, \"div[@code='gymmbp']\")))\n",
    "# #         time.sleep(1)\n",
    "        \n",
    "#         ## Selecting the correct outlet\n",
    "#         outlet_selection = Select(driver.find_element_by_id('outlet-code'))\n",
    "#         outlet_selection.select_by_visible_text(outlet)\n",
    "\n",
    "#         ## Selecting tomorrow's date\n",
    "#         today = dt.today()\n",
    "#         tomorrow = (today+datetime.timedelta(days=1)).strftime(\"%d-%m-%Y\")\n",
    "#         driver.find_element_by_xpath(\"//input[@id='input-date']\").send_keys(tomorrow)\n",
    "\n",
    "#         ## Selecting desired timeslot\n",
    "# #         timeslot_selection = driver.find_elements_by_xpath(f\"//*[contains(text(), '{timeslot}')]\")[0]\n",
    "# #         timeslot_selection.click()\n",
    "#         timeslot_selection = wait.until((EC.element_to_be_clickable((By.XPATH, f\"//*[contains(text(), '{timeslot}')]\"))))\n",
    "#         timeslot_selection.click()\n",
    "\n",
    "#         ## Inputing mobile and ID\n",
    "#         driver.find_element_by_xpath(\"//input[@id='input-mobile']\").send_keys(mobile)\n",
    "#         driver.find_element_by_xpath(\"//input[@id='input-3003']\").send_keys(gymmboxxid)\n",
    "\n",
    "#         ## Submit!\n",
    "#         #submit = driver.find_elements_by_xpath(\"//button[@id='btn-submit']\")[0]\n",
    "#         #submit.click()\n",
    "\n",
    "#         break"
   ]
  },
  {
   "cell_type": "code",
   "execution_count": 6,
   "metadata": {},
   "outputs": [
    {
     "name": "stderr",
     "output_type": "stream",
     "text": [
      "<ipython-input-6-cd568cdbc8fe>:10: DeprecationWarning: find_element_by_* commands are deprecated. Please use find_element() instead\n",
      "  element = driver.find_element_by_xpath(\"//div[@code='gymmbp']\")\n",
      "<ipython-input-6-cd568cdbc8fe>:16: DeprecationWarning: find_element_by_* commands are deprecated. Please use find_element() instead\n",
      "  driver.find_element_by_xpath(\"//input[@id='input-date']\").send_keys(tomorrow)\n",
      "<ipython-input-6-cd568cdbc8fe>:23: DeprecationWarning: find_element_by_* commands are deprecated. Please use find_element() instead\n",
      "  driver.find_element_by_xpath(\"//input[@id='input-mobile']\").send_keys(mobile)\n",
      "<ipython-input-6-cd568cdbc8fe>:24: DeprecationWarning: find_element_by_* commands are deprecated. Please use find_element() instead\n",
      "  driver.find_element_by_xpath(\"//input[@id='input-3003']\").send_keys(gymmboxxid)\n"
     ]
    }
   ],
   "source": [
    "\n",
    "#winsound.Beep(1000,1000)\n",
    "#playsound('hollow-582.mp3')\n",
    "\n",
    "while True:\n",
    "    dtn = dt.now().time()\n",
    "    if dtn >= booking_time:\n",
    "        driver.get(url)\n",
    "        wait.until(EC.presence_of_element_located((By.CSS_SELECTOR, \"div[code='gymmbp']\")))\n",
    " \n",
    "        element = driver.find_element_by_xpath(\"//div[@code='gymmbp']\")\n",
    "        element.click();\n",
    "\n",
    "        ## Selecting tomorrow's date\n",
    "        today = dt.today()\n",
    "        tomorrow = (today+datetime.timedelta(days=1)).strftime(\"%d-%m-%Y\")\n",
    "        driver.find_element_by_xpath(\"//input[@id='input-date']\").send_keys(tomorrow)\n",
    "\n",
    "        ## Selecting desired timeslot\n",
    "        timeslot_selection = wait.until((EC.element_to_be_clickable((By.XPATH, f\"//*[contains(text(), '{timeslot}')]\"))))\n",
    "        timeslot_selection.click()\n",
    "\n",
    "        ## Inputing mobile and ID\n",
    "        driver.find_element_by_xpath(\"//input[@id='input-mobile']\").send_keys(mobile)\n",
    "        driver.find_element_by_xpath(\"//input[@id='input-3003']\").send_keys(gymmboxxid)\n",
    "\n",
    "        ## Submit!\n",
    "        #submit = driver.find_elements_by_xpath(\"//button[@id='btn-submit']\")[0]\n",
    "        #submit.click()\n",
    "        \n",
    "        break"
   ]
  },
  {
   "cell_type": "code",
   "execution_count": 7,
   "metadata": {},
   "outputs": [],
   "source": [
    "# otp = input(\"Enter OTP here:\")"
   ]
  },
  {
   "cell_type": "code",
   "execution_count": 8,
   "metadata": {},
   "outputs": [],
   "source": [
    "# otp_submit = wait.until((EC.element_to_be_clickable((By.XPATH, f\"//*[contains(text(), 'submit')]\"))))\n",
    "\n",
    "# driver.find_element_by_xpath(\"//input[@id='input-mobile']\").send_keys(otp)\n",
    "# submit = driver.find_elements_by_xpath(\"//button[@id='btn-submit']\")[0]\n",
    "# submit.click()"
   ]
  },
  {
   "cell_type": "code",
   "execution_count": 9,
   "metadata": {},
   "outputs": [],
   "source": [
    "# email = \"cp_khoo@hotmail.com\"\n",
    "# driver.find_element_by_xpath(\"//input[@id='input-email']\").send_keys(otp)\n",
    "# submit = driver.find_elements_by_xpath(\"//button[@id='btn-submit']\")[0]\n",
    "# submit.click()"
   ]
  }
 ],
 "metadata": {
  "kernelspec": {
   "display_name": "Python 3",
   "language": "python",
   "name": "python3"
  },
  "language_info": {
   "codemirror_mode": {
    "name": "ipython",
    "version": 3
   },
   "file_extension": ".py",
   "mimetype": "text/x-python",
   "name": "python",
   "nbconvert_exporter": "python",
   "pygments_lexer": "ipython3",
   "version": "3.8.5"
  }
 },
 "nbformat": 4,
 "nbformat_minor": 4
}
